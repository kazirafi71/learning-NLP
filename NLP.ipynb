{
  "nbformat": 4,
  "nbformat_minor": 0,
  "metadata": {
    "colab": {
      "name": "NLP",
      "provenance": [],
      "authorship_tag": "ABX9TyMEnDErcNg4Ap69oVCHgkhk",
      "include_colab_link": true
    },
    "kernelspec": {
      "name": "python3",
      "display_name": "Python 3"
    },
    "language_info": {
      "name": "python"
    }
  },
  "cells": [
    {
      "cell_type": "markdown",
      "metadata": {
        "id": "view-in-github",
        "colab_type": "text"
      },
      "source": [
        "<a href=\"https://colab.research.google.com/github/kazirafi71/learning-NLP/blob/master/NLP.ipynb\" target=\"_parent\"><img src=\"https://colab.research.google.com/assets/colab-badge.svg\" alt=\"Open In Colab\"/></a>"
      ]
    },
    {
      "cell_type": "code",
      "source": [
        "#Tokenization of paragraph  or  sentences"
      ],
      "metadata": {
        "id": "YdJdKbV91LrX"
      },
      "execution_count": null,
      "outputs": []
    },
    {
      "cell_type": "code",
      "source": [
        "import nltk\n",
        "nltk.download('stopwords')\n",
        "nltk.download('wordnet')\n",
        "nltk.download('punkt')\n",
        "nltk.download('averaged_perceptron_tagger') "
      ],
      "metadata": {
        "colab": {
          "base_uri": "https://localhost:8080/"
        },
        "id": "Z353Ry72ycvv",
        "outputId": "9dc42f80-3c8f-410b-a052-c35192ccbe8e"
      },
      "execution_count": null,
      "outputs": [
        {
          "output_type": "stream",
          "name": "stdout",
          "text": [
            "[nltk_data] Downloading package stopwords to /root/nltk_data...\n",
            "[nltk_data]   Unzipping corpora/stopwords.zip.\n",
            "[nltk_data] Downloading package wordnet to /root/nltk_data...\n",
            "[nltk_data]   Unzipping corpora/wordnet.zip.\n",
            "[nltk_data] Downloading package punkt to /root/nltk_data...\n",
            "[nltk_data]   Unzipping tokenizers/punkt.zip.\n",
            "[nltk_data] Downloading package averaged_perceptron_tagger to\n",
            "[nltk_data]     /root/nltk_data...\n",
            "[nltk_data]   Unzipping taggers/averaged_perceptron_tagger.zip.\n"
          ]
        },
        {
          "output_type": "execute_result",
          "data": {
            "text/plain": [
              "True"
            ]
          },
          "metadata": {},
          "execution_count": 2
        }
      ]
    },
    {
      "cell_type": "code",
      "source": [
        "paragraph=\"\"\"\n",
        "It is a long established fact that a reader will be distracted by the readable content of a page when looking at its layout.\n",
        " The point of using Lorem Ipsum is that it has a more-or-less normal distribution of letters, as opposed to using 'Content here, content here', \n",
        " making it look like readable English. Many desktop publishing packages and web page editors now use Lorem Ipsum as their default model text,\n",
        "  and a search for 'lorem ipsum' will uncover many web sites still in their infancy. \n",
        "Various versions have evolved over the years, sometimes by accident, sometimes on purpose (injected humour and the like).\n",
        "Lorem ipsum dolor sit amet, consectetur adipiscing elit, sed do eiusmod tempor incididunt ut labore et dolore magna aliqua.\n",
        " Ut enim ad minim veniam, quis nostrud exercitation ullamco laboris nisi ut aliquip ex ea commodo consequat bad bad. \n",
        " Duis aute irure dolor in reprehenderit in voluptate velit esse cillum dolore eu fugiat nulla pariatur. \n",
        "Excepteur sint occaecat cupidatat non proident, sunt in culpa qui officia deserunt mollit anim id est laborum history good good good good good goodgood goodgood good good good good good.\n",
        "\n",
        "\"\"\""
      ],
      "metadata": {
        "id": "6omnpsNSygK1"
      },
      "execution_count": null,
      "outputs": []
    },
    {
      "cell_type": "code",
      "source": [
        "sentences=nltk.sent_tokenize(paragraph)"
      ],
      "metadata": {
        "id": "jUwuaezrzRsa"
      },
      "execution_count": null,
      "outputs": []
    },
    {
      "cell_type": "code",
      "source": [
        "words=nltk.word_tokenize(paragraph)\n"
      ],
      "metadata": {
        "id": "gKE_ywVLzZqM"
      },
      "execution_count": null,
      "outputs": []
    },
    {
      "cell_type": "code",
      "source": [
        "sentences"
      ],
      "metadata": {
        "colab": {
          "base_uri": "https://localhost:8080/"
        },
        "id": "7dyvPpmvzekR",
        "outputId": "50161ea2-e3cd-42a5-f99d-3b27c8b0d85c"
      },
      "execution_count": null,
      "outputs": [
        {
          "output_type": "execute_result",
          "data": {
            "text/plain": [
              "['\\nIt is a long established fact that a reader will be distracted by the readable content of a page when looking at its layout.',\n",
              " \"The point of using Lorem Ipsum is that it has a more-or-less normal distribution of letters, as opposed to using 'Content here, content here', \\n making it look like readable English.\",\n",
              " \"Many desktop publishing packages and web page editors now use Lorem Ipsum as their default model text,\\n  and a search for 'lorem ipsum' will uncover many web sites still in their infancy.\",\n",
              " 'Various versions have evolved over the years, sometimes by accident, sometimes on purpose (injected humour and the like).',\n",
              " 'Lorem ipsum dolor sit amet, consectetur adipiscing elit, sed do eiusmod tempor incididunt ut labore et dolore magna aliqua.',\n",
              " 'Ut enim ad minim veniam, quis nostrud exercitation ullamco laboris nisi ut aliquip ex ea commodo consequat bad bad.',\n",
              " 'Duis aute irure dolor in reprehenderit in voluptate velit esse cillum dolore eu fugiat nulla pariatur.',\n",
              " 'Excepteur sint occaecat cupidatat non proident, sunt in culpa qui officia deserunt mollit anim id est laborum history good good good good good goodgood goodgood good good good good good.']"
            ]
          },
          "metadata": {},
          "execution_count": 6
        }
      ]
    },
    {
      "cell_type": "code",
      "source": [
        ""
      ],
      "metadata": {
        "id": "hF6TWDJuznGe"
      },
      "execution_count": null,
      "outputs": []
    },
    {
      "cell_type": "code",
      "source": [
        "#Stemming"
      ],
      "metadata": {
        "id": "Z-DLRjab1Tpr"
      },
      "execution_count": null,
      "outputs": []
    },
    {
      "cell_type": "code",
      "source": [
        "import nltk\n",
        "from nltk.stem import PorterStemmer\n",
        "from nltk.corpus import stopwords"
      ],
      "metadata": {
        "id": "cCRQ_0o81V0V"
      },
      "execution_count": null,
      "outputs": []
    },
    {
      "cell_type": "code",
      "source": [
        "paragraph"
      ],
      "metadata": {
        "colab": {
          "base_uri": "https://localhost:8080/",
          "height": 105
        },
        "id": "soacF0vY1qHz",
        "outputId": "55c111e9-7361-43b1-a811-18db1820811d"
      },
      "execution_count": null,
      "outputs": [
        {
          "output_type": "execute_result",
          "data": {
            "text/plain": [
              "\"\\nIt is a long established fact that a reader will be distracted by the readable content of a page when looking at its layout.\\n The point of using Lorem Ipsum is that it has a more-or-less normal distribution of letters, as opposed to using 'Content here, content here', \\n making it look like readable English. Many desktop publishing packages and web page editors now use Lorem Ipsum as their default model text,\\n  and a search for 'lorem ipsum' will uncover many web sites still in their infancy. \\nVarious versions have evolved over the years, sometimes by accident, sometimes on purpose (injected humour and the like).\\nLorem ipsum dolor sit amet, consectetur adipiscing elit, sed do eiusmod tempor incididunt ut labore et dolore magna aliqua.\\n Ut enim ad minim veniam, quis nostrud exercitation ullamco laboris nisi ut aliquip ex ea commodo consequat bad bad. \\n Duis aute irure dolor in reprehenderit in voluptate velit esse cillum dolore eu fugiat nulla pariatur. \\nExcepteur sint occaecat cupidatat non proident, sunt in culpa qui officia deserunt mollit anim id est laborum history good good good good good goodgood goodgood good good good good good.\\n\\n\""
            ],
            "application/vnd.google.colaboratory.intrinsic+json": {
              "type": "string"
            }
          },
          "metadata": {},
          "execution_count": 9
        }
      ]
    },
    {
      "cell_type": "code",
      "source": [
        "sentences=nltk.sent_tokenize(paragraph)\n",
        "sentences"
      ],
      "metadata": {
        "colab": {
          "base_uri": "https://localhost:8080/"
        },
        "id": "AmiqQLG81tJ0",
        "outputId": "a698f0ff-365d-4a3f-becf-5ce5753ffc7c"
      },
      "execution_count": null,
      "outputs": [
        {
          "output_type": "execute_result",
          "data": {
            "text/plain": [
              "['\\nIt is a long established fact that a reader will be distracted by the readable content of a page when looking at its layout.',\n",
              " \"The point of using Lorem Ipsum is that it has a more-or-less normal distribution of letters, as opposed to using 'Content here, content here', \\n making it look like readable English.\",\n",
              " \"Many desktop publishing packages and web page editors now use Lorem Ipsum as their default model text,\\n  and a search for 'lorem ipsum' will uncover many web sites still in their infancy.\",\n",
              " 'Various versions have evolved over the years, sometimes by accident, sometimes on purpose (injected humour and the like).',\n",
              " 'Lorem ipsum dolor sit amet, consectetur adipiscing elit, sed do eiusmod tempor incididunt ut labore et dolore magna aliqua.',\n",
              " 'Ut enim ad minim veniam, quis nostrud exercitation ullamco laboris nisi ut aliquip ex ea commodo consequat bad bad.',\n",
              " 'Duis aute irure dolor in reprehenderit in voluptate velit esse cillum dolore eu fugiat nulla pariatur.',\n",
              " 'Excepteur sint occaecat cupidatat non proident, sunt in culpa qui officia deserunt mollit anim id est laborum history good good good good good goodgood goodgood good good good good good.']"
            ]
          },
          "metadata": {},
          "execution_count": 10
        }
      ]
    },
    {
      "cell_type": "code",
      "source": [
        "stemmer=PorterStemmer()"
      ],
      "metadata": {
        "id": "DP3J0_2I2L9E"
      },
      "execution_count": null,
      "outputs": []
    },
    {
      "cell_type": "code",
      "source": [
        "# stopwords.words(\"english\")"
      ],
      "metadata": {
        "id": "oWPlttPV2RBN"
      },
      "execution_count": null,
      "outputs": []
    },
    {
      "cell_type": "code",
      "source": [
        "\n",
        "#stem word stopwords\n",
        "for i in range(len(sentences)):\n",
        "  words=nltk.word_tokenize(sentences[i])\n",
        "  words=[stemmer.stem(word) for word in words if word not in set(stopwords.words('english'))]\n",
        "  sentences[i]=\" \".join(words)"
      ],
      "metadata": {
        "id": "Yn9atF7O2elh"
      },
      "execution_count": null,
      "outputs": []
    },
    {
      "cell_type": "code",
      "source": [
        "sentences"
      ],
      "metadata": {
        "colab": {
          "base_uri": "https://localhost:8080/"
        },
        "id": "SSb6Dq8p3-SN",
        "outputId": "baa16a60-7b8d-4aad-af4c-c39c4e087e23"
      },
      "execution_count": null,
      "outputs": [
        {
          "output_type": "execute_result",
          "data": {
            "text/plain": [
              "['It long establish fact reader distract readabl content page look layout .',\n",
              " \"the point use lorem ipsum more-or-less normal distribut letter , oppos use 'content , content ' , make look like readabl english .\",\n",
              " \"mani desktop publish packag web page editor use lorem ipsum default model text , search 'lorem ipsum ' uncov mani web site still infanc .\",\n",
              " 'variou version evolv year , sometim accid , sometim purpos ( inject humour like ) .',\n",
              " 'lorem ipsum dolor sit amet , consectetur adipisc elit , sed eiusmod tempor incididunt ut labor et dolor magna aliqua .',\n",
              " 'Ut enim ad minim veniam , qui nostrud exercit ullamco labori nisi ut aliquip ex ea commodo consequat bad bad .',\n",
              " 'dui aut irur dolor reprehenderit volupt velit ess cillum dolor eu fugiat nulla pariatur .',\n",
              " 'excepteur sint occaecat cupidatat non proident , sunt culpa qui officia deserunt mollit anim id est laborum histori good good good good good goodgood goodgood good good good good good .']"
            ]
          },
          "metadata": {},
          "execution_count": 14
        }
      ]
    },
    {
      "cell_type": "code",
      "source": [
        "#Lemmatization"
      ],
      "metadata": {
        "id": "VHBdnM_g4JNF"
      },
      "execution_count": null,
      "outputs": []
    },
    {
      "cell_type": "code",
      "source": [
        "from nltk.stem import WordNetLemmatizer"
      ],
      "metadata": {
        "id": "KbLjPIIB659F"
      },
      "execution_count": null,
      "outputs": []
    },
    {
      "cell_type": "code",
      "source": [
        "paragraph"
      ],
      "metadata": {
        "colab": {
          "base_uri": "https://localhost:8080/",
          "height": 105
        },
        "id": "ZP4TvU9t7BVT",
        "outputId": "bcaa6b9e-ea0c-4d3c-ef7d-ed1d268fba09"
      },
      "execution_count": null,
      "outputs": [
        {
          "output_type": "execute_result",
          "data": {
            "text/plain": [
              "\"\\nIt is a long established fact that a reader will be distracted by the readable content of a page when looking at its layout.\\n The point of using Lorem Ipsum is that it has a more-or-less normal distribution of letters, as opposed to using 'Content here, content here', \\n making it look like readable English. Many desktop publishing packages and web page editors now use Lorem Ipsum as their default model text,\\n  and a search for 'lorem ipsum' will uncover many web sites still in their infancy. \\nVarious versions have evolved over the years, sometimes by accident, sometimes on purpose (injected humour and the like).\\nLorem ipsum dolor sit amet, consectetur adipiscing elit, sed do eiusmod tempor incididunt ut labore et dolore magna aliqua.\\n Ut enim ad minim veniam, quis nostrud exercitation ullamco laboris nisi ut aliquip ex ea commodo consequat bad bad. \\n Duis aute irure dolor in reprehenderit in voluptate velit esse cillum dolore eu fugiat nulla pariatur. \\nExcepteur sint occaecat cupidatat non proident, sunt in culpa qui officia deserunt mollit anim id est laborum history good good good good good goodgood goodgood good good good good good.\\n\\n\""
            ],
            "application/vnd.google.colaboratory.intrinsic+json": {
              "type": "string"
            }
          },
          "metadata": {},
          "execution_count": 17
        }
      ]
    },
    {
      "cell_type": "code",
      "source": [
        "sentences=nltk.sent_tokenize(paragraph)\n",
        "sentences"
      ],
      "metadata": {
        "colab": {
          "base_uri": "https://localhost:8080/"
        },
        "id": "0FsYEYdT7Cbd",
        "outputId": "862caec1-d8c4-4071-e5b2-92b671863b5d"
      },
      "execution_count": null,
      "outputs": [
        {
          "output_type": "execute_result",
          "data": {
            "text/plain": [
              "['\\nIt is a long established fact that a reader will be distracted by the readable content of a page when looking at its layout.',\n",
              " \"The point of using Lorem Ipsum is that it has a more-or-less normal distribution of letters, as opposed to using 'Content here, content here', \\n making it look like readable English.\",\n",
              " \"Many desktop publishing packages and web page editors now use Lorem Ipsum as their default model text,\\n  and a search for 'lorem ipsum' will uncover many web sites still in their infancy.\",\n",
              " 'Various versions have evolved over the years, sometimes by accident, sometimes on purpose (injected humour and the like).',\n",
              " 'Lorem ipsum dolor sit amet, consectetur adipiscing elit, sed do eiusmod tempor incididunt ut labore et dolore magna aliqua.',\n",
              " 'Ut enim ad minim veniam, quis nostrud exercitation ullamco laboris nisi ut aliquip ex ea commodo consequat bad bad.',\n",
              " 'Duis aute irure dolor in reprehenderit in voluptate velit esse cillum dolore eu fugiat nulla pariatur.',\n",
              " 'Excepteur sint occaecat cupidatat non proident, sunt in culpa qui officia deserunt mollit anim id est laborum history good good good good good goodgood goodgood good good good good good.']"
            ]
          },
          "metadata": {},
          "execution_count": 18
        }
      ]
    },
    {
      "cell_type": "code",
      "source": [
        "lem=WordNetLemmatizer()"
      ],
      "metadata": {
        "id": "5qROrjr37Nzj"
      },
      "execution_count": null,
      "outputs": []
    },
    {
      "cell_type": "code",
      "source": [
        "#stem word stopwords\n",
        "for i in range(len(sentences)):\n",
        "  words=nltk.word_tokenize(sentences[i])\n",
        "  words=[lem.lemmatize(word) for word in words if word not in set(stopwords.words('english'))]\n",
        "  sentences[i]=\" \".join(words)"
      ],
      "metadata": {
        "id": "0fPURc_P7Sld"
      },
      "execution_count": null,
      "outputs": []
    },
    {
      "cell_type": "code",
      "source": [
        "sentences"
      ],
      "metadata": {
        "colab": {
          "base_uri": "https://localhost:8080/"
        },
        "id": "6yx3776Q7kCr",
        "outputId": "0173c940-778c-4a67-9b3d-cf269376a2f5"
      },
      "execution_count": null,
      "outputs": [
        {
          "output_type": "execute_result",
          "data": {
            "text/plain": [
              "['It long established fact reader distracted readable content page looking layout .',\n",
              " \"The point using Lorem Ipsum more-or-less normal distribution letter , opposed using 'Content , content ' , making look like readable English .\",\n",
              " \"Many desktop publishing package web page editor use Lorem Ipsum default model text , search 'lorem ipsum ' uncover many web site still infancy .\",\n",
              " 'Various version evolved year , sometimes accident , sometimes purpose ( injected humour like ) .',\n",
              " 'Lorem ipsum dolor sit amet , consectetur adipiscing elit , sed eiusmod tempor incididunt ut labore et dolore magna aliqua .',\n",
              " 'Ut enim ad minim veniam , quis nostrud exercitation ullamco laboris nisi ut aliquip ex ea commodo consequat bad bad .',\n",
              " 'Duis aute irure dolor reprehenderit voluptate velit esse cillum dolore eu fugiat nulla pariatur .',\n",
              " 'Excepteur sint occaecat cupidatat non proident , sunt culpa qui officia deserunt mollit anim id est laborum history good good good good good goodgood goodgood good good good good good .']"
            ]
          },
          "metadata": {},
          "execution_count": 21
        }
      ]
    },
    {
      "cell_type": "code",
      "source": [
        "# Bag of words"
      ],
      "metadata": {
        "id": "aEleJVQ97ls5"
      },
      "execution_count": null,
      "outputs": []
    },
    {
      "cell_type": "code",
      "source": [
        "paragraph"
      ],
      "metadata": {
        "colab": {
          "base_uri": "https://localhost:8080/",
          "height": 105
        },
        "id": "7XNdt5li_a06",
        "outputId": "28cefc58-ba86-4206-9d9e-59cbf1b7b8ed"
      },
      "execution_count": null,
      "outputs": [
        {
          "output_type": "execute_result",
          "data": {
            "text/plain": [
              "\"\\nIt is a long established fact that a reader will be distracted by the readable content of a page when looking at its layout.\\n The point of using Lorem Ipsum is that it has a more-or-less normal distribution of letters, as opposed to using 'Content here, content here', \\n making it look like readable English. Many desktop publishing packages and web page editors now use Lorem Ipsum as their default model text,\\n  and a search for 'lorem ipsum' will uncover many web sites still in their infancy. \\nVarious versions have evolved over the years, sometimes by accident, sometimes on purpose (injected humour and the like).\\nLorem ipsum dolor sit amet, consectetur adipiscing elit, sed do eiusmod tempor incididunt ut labore et dolore magna aliqua.\\n Ut enim ad minim veniam, quis nostrud exercitation ullamco laboris nisi ut aliquip ex ea commodo consequat bad bad. \\n Duis aute irure dolor in reprehenderit in voluptate velit esse cillum dolore eu fugiat nulla pariatur. \\nExcepteur sint occaecat cupidatat non proident, sunt in culpa qui officia deserunt mollit anim id est laborum history good good good good good goodgood goodgood good good good good good.\\n\\n\""
            ],
            "application/vnd.google.colaboratory.intrinsic+json": {
              "type": "string"
            }
          },
          "metadata": {},
          "execution_count": 23
        }
      ]
    },
    {
      "cell_type": "code",
      "source": [
        "import re\n",
        "from nltk.stem import PorterStemmer\n",
        "from nltk.corpus import stopwords\n",
        "from nltk.stem import WordNetLemmatizer"
      ],
      "metadata": {
        "id": "peL5Sz0A_cbn"
      },
      "execution_count": null,
      "outputs": []
    },
    {
      "cell_type": "code",
      "source": [
        "ps=PorterStemmer()\n",
        "wordnet=WordNetLemmatizer()"
      ],
      "metadata": {
        "id": "wlPqGZmf_1Us"
      },
      "execution_count": null,
      "outputs": []
    },
    {
      "cell_type": "code",
      "source": [
        "sentences=nltk.sent_tokenize(paragraph)"
      ],
      "metadata": {
        "id": "RRh7C1Kb_61y"
      },
      "execution_count": null,
      "outputs": []
    },
    {
      "cell_type": "code",
      "source": [
        "len(sentences)"
      ],
      "metadata": {
        "colab": {
          "base_uri": "https://localhost:8080/"
        },
        "id": "uIg3wvHrADXk",
        "outputId": "4fa35f0e-7d64-46bb-ed44-d4bc08069f74"
      },
      "execution_count": null,
      "outputs": [
        {
          "output_type": "execute_result",
          "data": {
            "text/plain": [
              "8"
            ]
          },
          "metadata": {},
          "execution_count": 27
        }
      ]
    },
    {
      "cell_type": "code",
      "source": [
        "#CLEANING THE TEXTS\n",
        "corpus=[]\n",
        "for i in range(len(sentences)):\n",
        "  review=re.sub('[^a-zA-Z]',' ', sentences[i])\n",
        "  review=review.lower()\n",
        "  review=review.split()\n",
        "  review=[wordnet.lemmatize(word) for word in review if word not in set(stopwords.words('english'))]\n",
        "  review=\" \".join(review)\n",
        "  corpus.append(review)"
      ],
      "metadata": {
        "id": "EIrDkTxjAHN6"
      },
      "execution_count": null,
      "outputs": []
    },
    {
      "cell_type": "code",
      "source": [
        "corpus"
      ],
      "metadata": {
        "colab": {
          "base_uri": "https://localhost:8080/"
        },
        "id": "3lyoJB1jBF4q",
        "outputId": "4afe3984-1dbe-4a0e-8a89-2f721bf3b9b8"
      },
      "execution_count": null,
      "outputs": [
        {
          "output_type": "execute_result",
          "data": {
            "text/plain": [
              "['long established fact reader distracted readable content page looking layout',\n",
              " 'point using lorem ipsum le normal distribution letter opposed using content content making look like readable english',\n",
              " 'many desktop publishing package web page editor use lorem ipsum default model text search lorem ipsum uncover many web site still infancy',\n",
              " 'various version evolved year sometimes accident sometimes purpose injected humour like',\n",
              " 'lorem ipsum dolor sit amet consectetur adipiscing elit sed eiusmod tempor incididunt ut labore et dolore magna aliqua',\n",
              " 'ut enim ad minim veniam quis nostrud exercitation ullamco laboris nisi ut aliquip ex ea commodo consequat bad bad',\n",
              " 'duis aute irure dolor reprehenderit voluptate velit esse cillum dolore eu fugiat nulla pariatur',\n",
              " 'excepteur sint occaecat cupidatat non proident sunt culpa qui officia deserunt mollit anim id est laborum history good good good good good goodgood goodgood good good good good good']"
            ]
          },
          "metadata": {},
          "execution_count": 29
        }
      ]
    },
    {
      "cell_type": "code",
      "source": [
        "#creating bag of words"
      ],
      "metadata": {
        "id": "70pHi117BKsZ"
      },
      "execution_count": null,
      "outputs": []
    },
    {
      "cell_type": "code",
      "source": [
        "from sklearn.feature_extraction.text import CountVectorizer\n",
        "cv=CountVectorizer()\n"
      ],
      "metadata": {
        "id": "KUXfhV_qCY0p"
      },
      "execution_count": null,
      "outputs": []
    },
    {
      "cell_type": "code",
      "source": [
        "x=cv.fit_transform(corpus).toarray()\n",
        "x"
      ],
      "metadata": {
        "colab": {
          "base_uri": "https://localhost:8080/"
        },
        "id": "qQDio3XqClXK",
        "outputId": "95c14638-ac04-438c-8ef3-6965a4857e5d"
      },
      "execution_count": null,
      "outputs": [
        {
          "output_type": "execute_result",
          "data": {
            "text/plain": [
              "array([[ 0,  0,  0,  0,  0,  0,  0,  0,  0,  0,  0,  0,  0,  1,  0,  0,\n",
              "         0,  0,  0,  1,  0,  0,  0,  0,  0,  0,  0,  0,  0,  0,  0,  0,\n",
              "         1,  0,  0,  0,  0,  0,  0,  1,  0,  0,  0,  0,  0,  0,  0,  0,\n",
              "         0,  0,  0,  0,  0,  0,  1,  0,  0,  0,  1,  0,  1,  0,  0,  0,\n",
              "         0,  0,  0,  0,  0,  0,  0,  0,  0,  0,  0,  0,  0,  1,  0,  0,\n",
              "         0,  0,  0,  0,  0,  1,  1,  0,  0,  0,  0,  0,  0,  0,  0,  0,\n",
              "         0,  0,  0,  0,  0,  0,  0,  0,  0,  0,  0,  0,  0,  0],\n",
              "       [ 0,  0,  0,  0,  0,  0,  0,  0,  0,  0,  0,  0,  0,  2,  0,  0,\n",
              "         0,  0,  0,  0,  1,  0,  0,  0,  0,  0,  0,  0,  1,  0,  0,  0,\n",
              "         0,  0,  0,  0,  0,  0,  0,  0,  0,  0,  0,  0,  0,  0,  0,  0,\n",
              "         0,  1,  0,  0,  0,  0,  0,  1,  1,  1,  0,  1,  0,  1,  0,  1,\n",
              "         0,  0,  0,  0,  0,  0,  1,  0,  0,  0,  0,  1,  0,  0,  0,  1,\n",
              "         0,  0,  0,  0,  0,  1,  0,  0,  0,  0,  0,  0,  0,  0,  0,  0,\n",
              "         0,  0,  0,  0,  0,  2,  0,  0,  0,  0,  0,  0,  0,  0],\n",
              "       [ 0,  0,  0,  0,  0,  0,  0,  0,  0,  0,  0,  0,  0,  0,  0,  0,\n",
              "         1,  0,  1,  0,  0,  0,  0,  0,  0,  1,  0,  0,  0,  0,  0,  0,\n",
              "         0,  0,  0,  0,  0,  0,  0,  0,  0,  0,  0,  0,  0,  0,  0,  1,\n",
              "         0,  2,  0,  0,  0,  0,  0,  0,  0,  0,  0,  0,  0,  2,  0,  0,\n",
              "         2,  0,  1,  0,  0,  0,  0,  0,  0,  0,  0,  0,  1,  1,  0,  0,\n",
              "         0,  1,  0,  0,  0,  0,  0,  0,  1,  0,  0,  0,  1,  0,  1,  0,\n",
              "         0,  1,  0,  1,  1,  0,  0,  0,  0,  0,  0,  0,  2,  0],\n",
              "       [ 1,  0,  0,  0,  0,  0,  0,  0,  0,  0,  0,  0,  0,  0,  0,  0,\n",
              "         0,  0,  0,  0,  0,  0,  0,  0,  0,  0,  0,  0,  0,  0,  0,  0,\n",
              "         0,  0,  0,  1,  0,  0,  0,  0,  0,  0,  0,  0,  1,  0,  0,  0,\n",
              "         1,  0,  0,  0,  0,  0,  0,  0,  0,  1,  0,  0,  0,  0,  0,  0,\n",
              "         0,  0,  0,  0,  0,  0,  0,  0,  0,  0,  0,  0,  0,  0,  0,  0,\n",
              "         0,  0,  1,  0,  0,  0,  0,  0,  0,  0,  0,  0,  0,  2,  0,  0,\n",
              "         0,  0,  0,  0,  0,  0,  0,  1,  0,  0,  1,  0,  0,  1],\n",
              "       [ 0,  0,  1,  1,  0,  1,  0,  0,  0,  0,  0,  1,  0,  0,  0,  0,\n",
              "         0,  0,  0,  0,  0,  1,  1,  0,  0,  0,  1,  1,  0,  0,  0,  0,\n",
              "         0,  1,  0,  0,  0,  0,  0,  0,  0,  0,  0,  0,  0,  0,  1,  0,\n",
              "         0,  1,  0,  1,  0,  0,  0,  0,  0,  0,  0,  0,  0,  1,  1,  0,\n",
              "         0,  0,  0,  0,  0,  0,  0,  0,  0,  0,  0,  0,  0,  0,  0,  0,\n",
              "         0,  0,  0,  0,  0,  0,  0,  0,  0,  1,  0,  1,  0,  0,  0,  0,\n",
              "         1,  0,  0,  0,  0,  0,  1,  0,  0,  0,  0,  0,  0,  0],\n",
              "       [ 0,  1,  0,  0,  1,  0,  0,  0,  2,  0,  1,  0,  1,  0,  0,  0,\n",
              "         0,  0,  0,  0,  0,  0,  0,  0,  1,  0,  0,  0,  0,  1,  0,  0,\n",
              "         0,  0,  0,  0,  1,  0,  1,  0,  0,  0,  0,  0,  0,  0,  0,  0,\n",
              "         0,  0,  0,  0,  1,  0,  0,  0,  0,  0,  0,  0,  0,  0,  0,  0,\n",
              "         0,  1,  0,  0,  1,  0,  0,  1,  0,  0,  0,  0,  0,  0,  0,  0,\n",
              "         0,  0,  0,  0,  1,  0,  0,  0,  0,  0,  0,  0,  0,  0,  0,  0,\n",
              "         0,  0,  1,  0,  0,  0,  2,  0,  0,  1,  0,  0,  0,  0],\n",
              "       [ 0,  0,  0,  0,  0,  0,  0,  1,  0,  1,  0,  0,  0,  0,  0,  0,\n",
              "         0,  0,  0,  0,  0,  1,  1,  1,  0,  0,  0,  0,  0,  0,  1,  0,\n",
              "         0,  0,  1,  0,  0,  0,  0,  0,  1,  0,  0,  0,  0,  0,  0,  0,\n",
              "         0,  0,  1,  0,  0,  0,  0,  0,  0,  0,  0,  0,  0,  0,  0,  0,\n",
              "         0,  0,  0,  0,  0,  0,  0,  0,  1,  0,  0,  0,  0,  0,  1,  0,\n",
              "         0,  0,  0,  0,  0,  0,  0,  1,  0,  0,  0,  0,  0,  0,  0,  0,\n",
              "         0,  0,  0,  0,  0,  0,  0,  0,  1,  0,  0,  1,  0,  0],\n",
              "       [ 0,  0,  0,  0,  0,  0,  1,  0,  0,  0,  0,  0,  0,  0,  1,  1,\n",
              "         0,  1,  0,  0,  0,  0,  0,  0,  0,  0,  0,  0,  0,  0,  0,  1,\n",
              "         0,  0,  0,  0,  0,  1,  0,  0,  0, 10,  2,  1,  0,  1,  0,  0,\n",
              "         0,  0,  0,  0,  0,  1,  0,  0,  0,  0,  0,  0,  0,  0,  0,  0,\n",
              "         0,  0,  0,  1,  0,  1,  0,  0,  0,  1,  1,  0,  0,  0,  0,  0,\n",
              "         1,  0,  0,  1,  0,  0,  0,  0,  0,  0,  1,  0,  0,  0,  0,  1,\n",
              "         0,  0,  0,  0,  0,  0,  0,  0,  0,  0,  0,  0,  0,  0]])"
            ]
          },
          "metadata": {},
          "execution_count": 32
        }
      ]
    },
    {
      "cell_type": "code",
      "source": [
        "#TFIDF"
      ],
      "metadata": {
        "id": "ZcK7MiQLCutt"
      },
      "execution_count": null,
      "outputs": []
    },
    {
      "cell_type": "code",
      "source": [
        "paragraph"
      ],
      "metadata": {
        "colab": {
          "base_uri": "https://localhost:8080/",
          "height": 105
        },
        "id": "X2ameLyqSwT-",
        "outputId": "23c3d2be-6236-4ef8-9f1c-c70ca44ec2da"
      },
      "execution_count": null,
      "outputs": [
        {
          "output_type": "execute_result",
          "data": {
            "text/plain": [
              "\"\\nIt is a long established fact that a reader will be distracted by the readable content of a page when looking at its layout.\\n The point of using Lorem Ipsum is that it has a more-or-less normal distribution of letters, as opposed to using 'Content here, content here', \\n making it look like readable English. Many desktop publishing packages and web page editors now use Lorem Ipsum as their default model text,\\n  and a search for 'lorem ipsum' will uncover many web sites still in their infancy. \\nVarious versions have evolved over the years, sometimes by accident, sometimes on purpose (injected humour and the like).\\nLorem ipsum dolor sit amet, consectetur adipiscing elit, sed do eiusmod tempor incididunt ut labore et dolore magna aliqua.\\n Ut enim ad minim veniam, quis nostrud exercitation ullamco laboris nisi ut aliquip ex ea commodo consequat bad bad. \\n Duis aute irure dolor in reprehenderit in voluptate velit esse cillum dolore eu fugiat nulla pariatur. \\nExcepteur sint occaecat cupidatat non proident, sunt in culpa qui officia deserunt mollit anim id est laborum history good good good good good goodgood goodgood good good good good good.\\n\\n\""
            ],
            "application/vnd.google.colaboratory.intrinsic+json": {
              "type": "string"
            }
          },
          "metadata": {},
          "execution_count": 34
        }
      ]
    },
    {
      "cell_type": "code",
      "source": [
        "#CLEANING THE TEXTS\n",
        "corpus=[]\n",
        "for i in range(len(sentences)):\n",
        "  review=re.sub('[^a-zA-Z]',' ', sentences[i])\n",
        "  review=review.lower()\n",
        "  review=review.split()\n",
        "  review=[wordnet.lemmatize(word) for word in review if word not in set(stopwords.words('english'))]\n",
        "  review=\" \".join(review)\n",
        "  corpus.append(review)"
      ],
      "metadata": {
        "id": "Hxsu3c8PSzXO"
      },
      "execution_count": null,
      "outputs": []
    },
    {
      "cell_type": "code",
      "source": [
        "corpus"
      ],
      "metadata": {
        "colab": {
          "base_uri": "https://localhost:8080/"
        },
        "id": "Nctdy17rS5S6",
        "outputId": "c1cb9b55-e3f0-4d5d-8aca-570618ff0bbf"
      },
      "execution_count": null,
      "outputs": [
        {
          "output_type": "execute_result",
          "data": {
            "text/plain": [
              "['long established fact reader distracted readable content page looking layout',\n",
              " 'point using lorem ipsum le normal distribution letter opposed using content content making look like readable english',\n",
              " 'many desktop publishing package web page editor use lorem ipsum default model text search lorem ipsum uncover many web site still infancy',\n",
              " 'various version evolved year sometimes accident sometimes purpose injected humour like',\n",
              " 'lorem ipsum dolor sit amet consectetur adipiscing elit sed eiusmod tempor incididunt ut labore et dolore magna aliqua',\n",
              " 'ut enim ad minim veniam quis nostrud exercitation ullamco laboris nisi ut aliquip ex ea commodo consequat bad bad',\n",
              " 'duis aute irure dolor reprehenderit voluptate velit esse cillum dolore eu fugiat nulla pariatur',\n",
              " 'excepteur sint occaecat cupidatat non proident sunt culpa qui officia deserunt mollit anim id est laborum history good good good good good goodgood goodgood good good good good good']"
            ]
          },
          "metadata": {},
          "execution_count": 37
        }
      ]
    },
    {
      "cell_type": "code",
      "source": [
        "from sklearn.feature_extraction.text import TfidfVectorizer\n",
        "cv=TfidfVectorizer()\n",
        "x=cv.fit_transform(corpus).toarray()\n",
        "x"
      ],
      "metadata": {
        "colab": {
          "base_uri": "https://localhost:8080/"
        },
        "id": "elRq5N3KS6XN",
        "outputId": "165803ea-12cb-4711-8520-657c6f23153f"
      },
      "execution_count": null,
      "outputs": [
        {
          "output_type": "execute_result",
          "data": {
            "text/plain": [
              "array([[0.        , 0.        , 0.        , 0.        , 0.        ,\n",
              "        0.        , 0.        , 0.        , 0.        , 0.        ,\n",
              "        0.        , 0.        , 0.        , 0.27771148, 0.        ,\n",
              "        0.        , 0.        , 0.        , 0.        , 0.33136708,\n",
              "        0.        , 0.        , 0.        , 0.        , 0.        ,\n",
              "        0.        , 0.        , 0.        , 0.        , 0.        ,\n",
              "        0.        , 0.        , 0.33136708, 0.        , 0.        ,\n",
              "        0.        , 0.        , 0.        , 0.        , 0.33136708,\n",
              "        0.        , 0.        , 0.        , 0.        , 0.        ,\n",
              "        0.        , 0.        , 0.        , 0.        , 0.        ,\n",
              "        0.        , 0.        , 0.        , 0.        , 0.33136708,\n",
              "        0.        , 0.        , 0.        , 0.33136708, 0.        ,\n",
              "        0.33136708, 0.        , 0.        , 0.        , 0.        ,\n",
              "        0.        , 0.        , 0.        , 0.        , 0.        ,\n",
              "        0.        , 0.        , 0.        , 0.        , 0.        ,\n",
              "        0.        , 0.        , 0.27771148, 0.        , 0.        ,\n",
              "        0.        , 0.        , 0.        , 0.        , 0.        ,\n",
              "        0.27771148, 0.33136708, 0.        , 0.        , 0.        ,\n",
              "        0.        , 0.        , 0.        , 0.        , 0.        ,\n",
              "        0.        , 0.        , 0.        , 0.        , 0.        ,\n",
              "        0.        , 0.        , 0.        , 0.        , 0.        ,\n",
              "        0.        , 0.        , 0.        , 0.        , 0.        ],\n",
              "       [0.        , 0.        , 0.        , 0.        , 0.        ,\n",
              "        0.        , 0.        , 0.        , 0.        , 0.        ,\n",
              "        0.        , 0.        , 0.        , 0.39224818, 0.        ,\n",
              "        0.        , 0.        , 0.        , 0.        , 0.        ,\n",
              "        0.2340165 , 0.        , 0.        , 0.        , 0.        ,\n",
              "        0.        , 0.        , 0.        , 0.2340165 , 0.        ,\n",
              "        0.        , 0.        , 0.        , 0.        , 0.        ,\n",
              "        0.        , 0.        , 0.        , 0.        , 0.        ,\n",
              "        0.        , 0.        , 0.        , 0.        , 0.        ,\n",
              "        0.        , 0.        , 0.        , 0.        , 0.169239  ,\n",
              "        0.        , 0.        , 0.        , 0.        , 0.        ,\n",
              "        0.2340165 , 0.2340165 , 0.19612409, 0.        , 0.2340165 ,\n",
              "        0.        , 0.169239  , 0.        , 0.2340165 , 0.        ,\n",
              "        0.        , 0.        , 0.        , 0.        , 0.        ,\n",
              "        0.2340165 , 0.        , 0.        , 0.        , 0.        ,\n",
              "        0.2340165 , 0.        , 0.        , 0.        , 0.2340165 ,\n",
              "        0.        , 0.        , 0.        , 0.        , 0.        ,\n",
              "        0.19612409, 0.        , 0.        , 0.        , 0.        ,\n",
              "        0.        , 0.        , 0.        , 0.        , 0.        ,\n",
              "        0.        , 0.        , 0.        , 0.        , 0.        ,\n",
              "        0.        , 0.468033  , 0.        , 0.        , 0.        ,\n",
              "        0.        , 0.        , 0.        , 0.        , 0.        ],\n",
              "       [0.        , 0.        , 0.        , 0.        , 0.        ,\n",
              "        0.        , 0.        , 0.        , 0.        , 0.        ,\n",
              "        0.        , 0.        , 0.        , 0.        , 0.        ,\n",
              "        0.        , 0.19654585, 0.        , 0.19654585, 0.        ,\n",
              "        0.        , 0.        , 0.        , 0.        , 0.        ,\n",
              "        0.19654585, 0.        , 0.        , 0.        , 0.        ,\n",
              "        0.        , 0.        , 0.        , 0.        , 0.        ,\n",
              "        0.        , 0.        , 0.        , 0.        , 0.        ,\n",
              "        0.        , 0.        , 0.        , 0.        , 0.        ,\n",
              "        0.        , 0.        , 0.19654585, 0.        , 0.284281  ,\n",
              "        0.        , 0.        , 0.        , 0.        , 0.        ,\n",
              "        0.        , 0.        , 0.        , 0.        , 0.        ,\n",
              "        0.        , 0.284281  , 0.        , 0.        , 0.3930917 ,\n",
              "        0.        , 0.19654585, 0.        , 0.        , 0.        ,\n",
              "        0.        , 0.        , 0.        , 0.        , 0.        ,\n",
              "        0.        , 0.19654585, 0.16472076, 0.        , 0.        ,\n",
              "        0.        , 0.19654585, 0.        , 0.        , 0.        ,\n",
              "        0.        , 0.        , 0.        , 0.19654585, 0.        ,\n",
              "        0.        , 0.        , 0.19654585, 0.        , 0.19654585,\n",
              "        0.        , 0.        , 0.19654585, 0.        , 0.19654585,\n",
              "        0.19654585, 0.        , 0.        , 0.        , 0.        ,\n",
              "        0.        , 0.        , 0.        , 0.3930917 , 0.        ],\n",
              "       [0.28058053, 0.        , 0.        , 0.        , 0.        ,\n",
              "        0.        , 0.        , 0.        , 0.        , 0.        ,\n",
              "        0.        , 0.        , 0.        , 0.        , 0.        ,\n",
              "        0.        , 0.        , 0.        , 0.        , 0.        ,\n",
              "        0.        , 0.        , 0.        , 0.        , 0.        ,\n",
              "        0.        , 0.        , 0.        , 0.        , 0.        ,\n",
              "        0.        , 0.        , 0.        , 0.        , 0.        ,\n",
              "        0.28058053, 0.        , 0.        , 0.        , 0.        ,\n",
              "        0.        , 0.        , 0.        , 0.        , 0.28058053,\n",
              "        0.        , 0.        , 0.        , 0.28058053, 0.        ,\n",
              "        0.        , 0.        , 0.        , 0.        , 0.        ,\n",
              "        0.        , 0.        , 0.23514839, 0.        , 0.        ,\n",
              "        0.        , 0.        , 0.        , 0.        , 0.        ,\n",
              "        0.        , 0.        , 0.        , 0.        , 0.        ,\n",
              "        0.        , 0.        , 0.        , 0.        , 0.        ,\n",
              "        0.        , 0.        , 0.        , 0.        , 0.        ,\n",
              "        0.        , 0.        , 0.28058053, 0.        , 0.        ,\n",
              "        0.        , 0.        , 0.        , 0.        , 0.        ,\n",
              "        0.        , 0.        , 0.        , 0.56116107, 0.        ,\n",
              "        0.        , 0.        , 0.        , 0.        , 0.        ,\n",
              "        0.        , 0.        , 0.        , 0.28058053, 0.        ,\n",
              "        0.        , 0.28058053, 0.        , 0.        , 0.28058053],\n",
              "       [0.        , 0.        , 0.24881212, 0.24881212, 0.        ,\n",
              "        0.24881212, 0.        , 0.        , 0.        , 0.        ,\n",
              "        0.        , 0.24881212, 0.        , 0.        , 0.        ,\n",
              "        0.        , 0.        , 0.        , 0.        , 0.        ,\n",
              "        0.        , 0.20852397, 0.20852397, 0.        , 0.        ,\n",
              "        0.        , 0.24881212, 0.24881212, 0.        , 0.        ,\n",
              "        0.        , 0.        , 0.        , 0.24881212, 0.        ,\n",
              "        0.        , 0.        , 0.        , 0.        , 0.        ,\n",
              "        0.        , 0.        , 0.        , 0.        , 0.        ,\n",
              "        0.        , 0.24881212, 0.        , 0.        , 0.17993908,\n",
              "        0.        , 0.24881212, 0.        , 0.        , 0.        ,\n",
              "        0.        , 0.        , 0.        , 0.        , 0.        ,\n",
              "        0.        , 0.17993908, 0.24881212, 0.        , 0.        ,\n",
              "        0.        , 0.        , 0.        , 0.        , 0.        ,\n",
              "        0.        , 0.        , 0.        , 0.        , 0.        ,\n",
              "        0.        , 0.        , 0.        , 0.        , 0.        ,\n",
              "        0.        , 0.        , 0.        , 0.        , 0.        ,\n",
              "        0.        , 0.        , 0.        , 0.        , 0.24881212,\n",
              "        0.        , 0.24881212, 0.        , 0.        , 0.        ,\n",
              "        0.        , 0.24881212, 0.        , 0.        , 0.        ,\n",
              "        0.        , 0.        , 0.20852397, 0.        , 0.        ,\n",
              "        0.        , 0.        , 0.        , 0.        , 0.        ],\n",
              "       [0.        , 0.21412982, 0.        , 0.        , 0.21412982,\n",
              "        0.        , 0.        , 0.        , 0.42825964, 0.        ,\n",
              "        0.21412982, 0.        , 0.21412982, 0.        , 0.        ,\n",
              "        0.        , 0.        , 0.        , 0.        , 0.        ,\n",
              "        0.        , 0.        , 0.        , 0.        , 0.21412982,\n",
              "        0.        , 0.        , 0.        , 0.        , 0.21412982,\n",
              "        0.        , 0.        , 0.        , 0.        , 0.        ,\n",
              "        0.        , 0.21412982, 0.        , 0.21412982, 0.        ,\n",
              "        0.        , 0.        , 0.        , 0.        , 0.        ,\n",
              "        0.        , 0.        , 0.        , 0.        , 0.        ,\n",
              "        0.        , 0.        , 0.21412982, 0.        , 0.        ,\n",
              "        0.        , 0.        , 0.        , 0.        , 0.        ,\n",
              "        0.        , 0.        , 0.        , 0.        , 0.        ,\n",
              "        0.21412982, 0.        , 0.        , 0.21412982, 0.        ,\n",
              "        0.        , 0.21412982, 0.        , 0.        , 0.        ,\n",
              "        0.        , 0.        , 0.        , 0.        , 0.        ,\n",
              "        0.        , 0.        , 0.        , 0.        , 0.21412982,\n",
              "        0.        , 0.        , 0.        , 0.        , 0.        ,\n",
              "        0.        , 0.        , 0.        , 0.        , 0.        ,\n",
              "        0.        , 0.        , 0.        , 0.21412982, 0.        ,\n",
              "        0.        , 0.        , 0.358915  , 0.        , 0.        ,\n",
              "        0.21412982, 0.        , 0.        , 0.        , 0.        ],\n",
              "       [0.        , 0.        , 0.        , 0.        , 0.        ,\n",
              "        0.        , 0.        , 0.27313078, 0.        , 0.27313078,\n",
              "        0.        , 0.        , 0.        , 0.        , 0.        ,\n",
              "        0.        , 0.        , 0.        , 0.        , 0.        ,\n",
              "        0.        , 0.22890491, 0.22890491, 0.27313078, 0.        ,\n",
              "        0.        , 0.        , 0.        , 0.        , 0.        ,\n",
              "        0.27313078, 0.        , 0.        , 0.        , 0.27313078,\n",
              "        0.        , 0.        , 0.        , 0.        , 0.        ,\n",
              "        0.27313078, 0.        , 0.        , 0.        , 0.        ,\n",
              "        0.        , 0.        , 0.        , 0.        , 0.        ,\n",
              "        0.27313078, 0.        , 0.        , 0.        , 0.        ,\n",
              "        0.        , 0.        , 0.        , 0.        , 0.        ,\n",
              "        0.        , 0.        , 0.        , 0.        , 0.        ,\n",
              "        0.        , 0.        , 0.        , 0.        , 0.        ,\n",
              "        0.        , 0.        , 0.27313078, 0.        , 0.        ,\n",
              "        0.        , 0.        , 0.        , 0.27313078, 0.        ,\n",
              "        0.        , 0.        , 0.        , 0.        , 0.        ,\n",
              "        0.        , 0.        , 0.27313078, 0.        , 0.        ,\n",
              "        0.        , 0.        , 0.        , 0.        , 0.        ,\n",
              "        0.        , 0.        , 0.        , 0.        , 0.        ,\n",
              "        0.        , 0.        , 0.        , 0.        , 0.27313078,\n",
              "        0.        , 0.        , 0.27313078, 0.        , 0.        ],\n",
              "       [0.        , 0.        , 0.        , 0.        , 0.        ,\n",
              "        0.        , 0.09090909, 0.        , 0.        , 0.        ,\n",
              "        0.        , 0.        , 0.        , 0.        , 0.09090909,\n",
              "        0.09090909, 0.        , 0.09090909, 0.        , 0.        ,\n",
              "        0.        , 0.        , 0.        , 0.        , 0.        ,\n",
              "        0.        , 0.        , 0.        , 0.        , 0.        ,\n",
              "        0.        , 0.09090909, 0.        , 0.        , 0.        ,\n",
              "        0.        , 0.        , 0.09090909, 0.        , 0.        ,\n",
              "        0.        , 0.90909091, 0.18181818, 0.09090909, 0.        ,\n",
              "        0.09090909, 0.        , 0.        , 0.        , 0.        ,\n",
              "        0.        , 0.        , 0.        , 0.09090909, 0.        ,\n",
              "        0.        , 0.        , 0.        , 0.        , 0.        ,\n",
              "        0.        , 0.        , 0.        , 0.        , 0.        ,\n",
              "        0.        , 0.        , 0.09090909, 0.        , 0.09090909,\n",
              "        0.        , 0.        , 0.        , 0.09090909, 0.09090909,\n",
              "        0.        , 0.        , 0.        , 0.        , 0.        ,\n",
              "        0.09090909, 0.        , 0.        , 0.09090909, 0.        ,\n",
              "        0.        , 0.        , 0.        , 0.        , 0.        ,\n",
              "        0.09090909, 0.        , 0.        , 0.        , 0.        ,\n",
              "        0.09090909, 0.        , 0.        , 0.        , 0.        ,\n",
              "        0.        , 0.        , 0.        , 0.        , 0.        ,\n",
              "        0.        , 0.        , 0.        , 0.        , 0.        ]])"
            ]
          },
          "metadata": {},
          "execution_count": 38
        }
      ]
    },
    {
      "cell_type": "code",
      "source": [
        "#word2vec"
      ],
      "metadata": {
        "id": "kvjXbl0oTaPz"
      },
      "execution_count": null,
      "outputs": []
    },
    {
      "cell_type": "code",
      "source": [
        "from gensim.models import Word2Vec"
      ],
      "metadata": {
        "id": "dZB9hnETm_Z6"
      },
      "execution_count": null,
      "outputs": []
    },
    {
      "cell_type": "code",
      "source": [
        "paragraph"
      ],
      "metadata": {
        "colab": {
          "base_uri": "https://localhost:8080/",
          "height": 105
        },
        "id": "y61L1adAnEUp",
        "outputId": "33b6bd29-ddea-44e4-b804-6b8f3e22436f"
      },
      "execution_count": null,
      "outputs": [
        {
          "output_type": "execute_result",
          "data": {
            "text/plain": [
              "\"\\nIt is a long established fact that a reader will be distracted by the readable content of a page when looking at its layout.\\n The point of using Lorem Ipsum is that it has a more-or-less normal distribution of letters, as opposed to using 'Content here, content here', \\n making it look like readable English. Many desktop publishing packages and web page editors now use Lorem Ipsum as their default model text,\\n  and a search for 'lorem ipsum' will uncover many web sites still in their infancy. \\nVarious versions have evolved over the years, sometimes by accident, sometimes on purpose (injected humour and the like).\\nLorem ipsum dolor sit amet, consectetur adipiscing elit, sed do eiusmod tempor incididunt ut labore et dolore magna aliqua.\\n Ut enim ad minim veniam, quis nostrud exercitation ullamco laboris nisi ut aliquip ex ea commodo consequat bad bad. \\n Duis aute irure dolor in reprehenderit in voluptate velit esse cillum dolore eu fugiat nulla pariatur. \\nExcepteur sint occaecat cupidatat non proident, sunt in culpa qui officia deserunt mollit anim id est laborum history good good good good good goodgood goodgood good good good good good.\\n\\n\""
            ],
            "application/vnd.google.colaboratory.intrinsic+json": {
              "type": "string"
            }
          },
          "metadata": {},
          "execution_count": 41
        }
      ]
    },
    {
      "cell_type": "code",
      "source": [
        "# Preprocessing the data\n",
        "text = re.sub(r'\\[[0-9]*\\]',' ',paragraph)\n",
        "text = re.sub(r'\\s+',' ',text)\n",
        "text = text.lower()\n",
        "text = re.sub(r'\\d',' ',text)\n",
        "text = re.sub(r'\\s+',' ',text)"
      ],
      "metadata": {
        "id": "jhk6tx0bnGAY"
      },
      "execution_count": null,
      "outputs": []
    },
    {
      "cell_type": "code",
      "source": [
        "# Preparing the dataset\n",
        "sentences = nltk.sent_tokenize(text)\n",
        "\n",
        "sentences = [nltk.word_tokenize(sentence) for sentence in sentences]\n",
        "\n",
        "for i in range(len(sentences)):\n",
        "    sentences[i] = [word for word in sentences[i] if word not in stopwords.words('english')]"
      ],
      "metadata": {
        "id": "fSyDWfSlnief"
      },
      "execution_count": null,
      "outputs": []
    },
    {
      "cell_type": "code",
      "source": [
        "# Training the Word2Vec model\n",
        "model = Word2Vec(sentences, min_count=1)\n",
        "\n",
        "words = model.wv.vocab\n"
      ],
      "metadata": {
        "id": "ubBp3YtFnrM3"
      },
      "execution_count": null,
      "outputs": []
    },
    {
      "cell_type": "code",
      "source": [
        "# Finding Word Vectors\n",
        "vector = model.wv['reader']\n",
        "vector"
      ],
      "metadata": {
        "colab": {
          "base_uri": "https://localhost:8080/"
        },
        "id": "2IBBaJ2inw6M",
        "outputId": "ec6eb71c-d3ba-4601-ab38-5372e11c56fe"
      },
      "execution_count": null,
      "outputs": [
        {
          "output_type": "execute_result",
          "data": {
            "text/plain": [
              "array([ 4.8497827e-03, -3.5574851e-03, -3.4046341e-05,  1.3468786e-03,\n",
              "       -3.3049921e-03,  6.6817016e-04, -4.1571730e-03, -2.3460032e-03,\n",
              "        5.0034206e-03,  2.7726360e-03,  2.2607991e-03, -2.4391098e-03,\n",
              "        2.3628257e-03, -1.0761264e-03, -3.5554054e-03,  2.4815309e-03,\n",
              "       -1.3558619e-03, -2.2111792e-04,  4.6516750e-03, -1.3260236e-03,\n",
              "       -4.2210333e-04, -4.1481308e-03,  2.4611035e-03,  3.9934642e-03,\n",
              "       -1.1861813e-03,  3.9641513e-03,  3.7892675e-03, -2.1584088e-03,\n",
              "        3.1002269e-03,  2.4002288e-03, -1.6685922e-03,  2.5613259e-03,\n",
              "       -2.7785490e-03,  1.1829681e-03, -7.9739076e-04,  3.0476239e-03,\n",
              "        4.2850454e-03, -2.8902492e-03, -4.6854247e-03, -3.1987429e-03,\n",
              "        3.8555961e-03, -4.6532894e-03,  4.2133019e-03, -1.0529091e-03,\n",
              "        3.5819749e-03, -3.5225896e-03, -5.6543799e-05,  2.6254754e-03,\n",
              "       -7.3299138e-04,  4.9102260e-03, -4.4147810e-03, -2.2811880e-03,\n",
              "       -3.1512321e-03,  2.7299486e-03,  2.5055739e-03, -4.2487886e-03,\n",
              "        6.0147472e-04,  2.4675619e-04,  1.3731705e-03,  2.3701536e-03,\n",
              "       -4.7030748e-04, -5.0036502e-03, -3.9101662e-03,  3.8548841e-03,\n",
              "       -4.2961352e-03,  3.0084166e-03, -4.3330141e-03,  4.3702149e-03,\n",
              "        3.5862750e-03, -6.9729146e-04, -2.3227246e-03,  9.4981998e-04,\n",
              "       -2.7591041e-03,  1.4211074e-03,  3.2588136e-03,  1.9915488e-03,\n",
              "        4.3720850e-03,  1.4256726e-03,  4.0176008e-03, -3.9920104e-03,\n",
              "        3.8796007e-03,  1.3190722e-03, -3.1748926e-03, -5.4974132e-04,\n",
              "       -3.5404516e-03, -2.0856480e-03,  1.6667143e-03,  2.1434917e-04,\n",
              "       -1.6764934e-04,  4.5465720e-03,  3.4780591e-04,  2.2697852e-03,\n",
              "       -1.2666064e-03,  4.9367342e-03, -3.2840809e-03,  1.7766861e-03,\n",
              "       -4.8411536e-04, -4.2655170e-03, -3.9771162e-03,  1.3884498e-03],\n",
              "      dtype=float32)"
            ]
          },
          "metadata": {},
          "execution_count": 50
        }
      ]
    },
    {
      "cell_type": "code",
      "source": [
        "# Most similar words\n",
        "similar = model.wv.most_similar('page')\n",
        "similar"
      ],
      "metadata": {
        "colab": {
          "base_uri": "https://localhost:8080/"
        },
        "id": "GcC0-a6mn-cs",
        "outputId": "b744931a-68c9-4f34-c577-373026c1ed88"
      },
      "execution_count": null,
      "outputs": [
        {
          "output_type": "execute_result",
          "data": {
            "text/plain": [
              "[('normal', 0.21166948974132538),\n",
              " ('uncover', 0.19237247109413147),\n",
              " ('non', 0.19187016785144806),\n",
              " ('still', 0.18994729220867157),\n",
              " ('exercitation', 0.1860356330871582),\n",
              " ('.', 0.18086065351963043),\n",
              " ('velit', 0.1782362163066864),\n",
              " ('esse', 0.1756691038608551),\n",
              " ('nisi', 0.16849374771118164),\n",
              " ('content', 0.1596529185771942)]"
            ]
          },
          "metadata": {},
          "execution_count": 55
        }
      ]
    },
    {
      "cell_type": "code",
      "source": [
        ""
      ],
      "metadata": {
        "id": "z7DcmqHEpBCo"
      },
      "execution_count": null,
      "outputs": []
    }
  ]
}